{
 "cells": [
  {
   "cell_type": "markdown",
   "metadata": {},
   "source": [
    "# Daten-Projekt «Booking.com»\n",
    "\n",
    "von Denise Jeitziner, 28. Februar 2019"
   ]
  },
  {
   "cell_type": "markdown",
   "metadata": {},
   "source": [
    "#### Die Ausgangslage: \n",
    "Klischees über andere Länder gibt es beim Reisen und auch sonst viele: Die Thailänder sind am gastfreundlichsten, die Japaner am saubersten, die Österreicher haben das beste Preis-/Leistungsverhältnis und so weiter. Und die Schweizer Hotelerie? In keiner Kategorie vorne mit dabei, höchstens bei den Preisen. Stimmt das wirklich? \n",
    "\n",
    "#### Die These / der Plan:\n",
    "Booking.com ist die ideale Plattform, um derartige Klischees zu überprüfen. Sie ist ziemlich umfassend, die Reisenden sind heterogen und aus aller Welt. Zwar wird sie nicht ganz frei von Manipulationen und gefälschten Beurteilungen sein, aber die grosse Masse der Beurteilungen dürfte verlässlich sein. Der Plan ist also ein Faktencheck: Alle auf Booking.com gelisteten Hotels aller Länder auf die Bewertungen hin analysieren. Die Ergebnisse zeigen, wie verlässlich diese Klischees sind. Im zweiten Notebook setze ich einen Fokus allein auf Schweizer Hotels.  \n",
    "\n",
    "#### Die Knackpunkte:\n",
    "- Es gibt **keinen bestehenden Datensatz***. Es gibt auch keine Liste aller Hotels/Links, die auf Booking.com gelistet sind. Die Medienstelle von Booking.com bleibt trotz mehrerer Anfragen stumm.\n",
    "\n",
    "\n",
    "- Ich musste also die Daten selber beschaffen. Weil Booking.com im Verlauf der Wochen, in denen ich mit dem Projekt beschäftigt war, immer mal wieder die Seite leicht geändert und auch diverse ***Hürden*** eingebaut hat, z.B. in Form von plötzlich erscheinenden Pop-ups, ***die das Scraping erschweren***, habe ich die Abfrage zur Sicherheit (und auch aus Stabilitätsgründen) in verschiedene Schritte aufgeteilt: 1. Linkliste aller Länder erstellen. 2. Liste mit Direktlinks zu allen Unterkünften pro Land erstellen. 3. Direktlinks aller Hotels abfragen. Weitere Details zum Ablauf sind direkt in den Notebooks vermerkt.  \n",
    "\n",
    "\n",
    "- ***Pro Land werden jeweils nur maximal 1000 Unterkünfte angezeigt***. Das heisst, es sich nicht alle Hotels aller Länder abrufbar, was das Ergebnis verfälschen kann (besonders bei der Frage nach dem besten/schlechtesten Hotel der Welt). Nach welchem Algorithmus die 1000 Hotels angezeigt werden, weiss ich leider nicht. Booking.com gab auch zu dieser Frage keine Auskunft. Ich habe probehalber mehrfach die Hotels in Österreich abgefragt und plus-minus dieselben Suchresultate erhalten. \n",
    "\n",
    "\n",
    "- Um ein etwas ausgeglicheneres Ergebnis zu erhalten (also keine Birnen mit Äpfeln vergleichen, bzw. ein Tipi mit einem Bed&Breakfast oder einem Chalet), ***konzentriere ich mich beim Scracpen ausschliesslich auf die Hotels***. \n",
    "\n",
    "\n",
    "- eine Abfrage der Preise wäre für dieses Projekt zu aufwändig gewesen, da der Vergleich schwierig ist. Die Ergebnisse liefern einen Mix aus Angeboten vom Doppelzimmer bis zum Masssenschlag, manche Unterkünfte haben Sonderangebote, manche eine Mindestaufenthaltdauer, manche sind am Wochenende günstiger, andere werktags. Deswegen habe ich auf diesen Punkt verzichtet. \n",
    "\n",
    "\n",
    "- Erst bei der Abfrage der Kantone (siehe zweites Notebook) habe ich festgestellt, dass die Abfrage im Detail nicht ganz sauber läuft. Ich habe das Schweiz-Notebook mehrmals durchlaufen lassen (was beim Alle-Länder-dieser-Welt aus Zeitgründen nicht mehr möglich war) und dabei festgestellt, dass vereinzelte Hotels mal in den Resulaten auftauchen, mal nicht. Das könnte unter anderem an der Verfügbarkeit des Hotels am jeweiligen Tag liegen. Ich habe daher jeweils versucht, die Hotels in einer Blanko-Abfrage zu scrapen, also ohne Datum. Das ist am einfachsten möglich, indem der Cache geleert wird. Eine zweite Problematik ist, dass via driver.page_source nicht immer haargenau dieselben Hotels in der BeautifulSoup abgefragt werden wie via get.requests. \n",
    "\n",
    "\n",
    "- **All das hat dazu geführt, dass ich für die Datenbeschaffung viel Zeit aufwenden musste (das Scrapen der Hoteldetails allein hat rund 40 Stunden gedaurt). So blieb am Ende für die Analyse und vor allem die Visualisierung (nur im nächsten Notebook mit Fokus auf Schweizer Kantone) leider kaum mehr Zeit übrig. Hier will ich noch investieren, bevor der Artikel gedruckt wird.**\n",
    "\n",
    "\n",
    "#### Einschätzung Aufwand/Ertrag – journalistische Relevanz:\n",
    "- Da sich meine Skills in Grenzen halten und ich alleine schon für das Scrapen und Bereinigen viel Zeit benötige, wird sich der Aufwand im Verhältnis zum Ertrag für jemanden wie mich nicht lohnen, zumal das Ergebnis nicht zwingend für den Fortbestand der Demokratie ist, sondern nice to have. \n",
    "- Aber: Klischees, Reisen, Best/Worst Hotels, etc. sind definitiv ein Schnurrithema. Deswegen lohnt sich die Auswertung allemal, auch wenn es sich bei meiner ersten Analyse vorerst um so genannte low hanging fruits handelt. Es stecken jedoch gleich mehrere Geschichten im Datensatz drin, die man noch verfolgen könnte (siehe auch Kommentare in den beiden Notebooks).  \n",
    "- Weiteres Plus: Die Hoteldaten (insbesonderen Koordinaten) können für weitere künftige Auswertungen genutzt und mit anderen Abfragen kombiniert werden, etwa bei einer Story über Hotels in der Lawinen-, Hochwasserzone, etc. \n",
    "\n",
    "#### Das journalistische Ziel – Artikel in der «SonntagsZeitung»:\n",
    "- Die ersten Ergebnisse der Analyse sollen im Frühling in der SonntagsZeitung auf einer «Pano»-Doppelseite erscheinen, sobald es auf die Ferienplanung der Leser zugeht. Arbeitstitel: «Internets Next Tophotel». Arbeitslead: Wollen Sie wissen, welche Länder die saubersten, freundlichsten und komfortabelsten Hotels haben? Sie werden überrascht sein» Es handelt sich dabei um eine Doppelseite mit verschiedenen visuellen Elementen/kleinen Häppli-Geschichten (jeweils in den Notebooks kurz erwähnt). Hier eine Übersicht: \n",
    "\n",
    "> - Lauftext mit den wichtigsten Fragen: Worin liegt der Erfolg für eine hohe Bewertung? Woran krankts pro Land am meisten? Was gibt den Ausschlag für gute/schlechte Noten? Ist es die Infrastruktur, das Preis-Leistungsverhältnis, die Lage oder doch eher die Freundlichkeit des Personals? Wo haben die Schweizer am meisten Nachholbedarf? \n",
    "> - Dazu: Wohin soll man diesen Sommer reisen, wenn man: die beste Lage, das freundlichste Personal, die saubersten Zimmer oder das komfortabelste Interieur haben möchte? \n",
    "> - Fokus Schweiz: Welche Kantone sind top, welche flop? Was machen die Vorbilder richtig (Quotes aus Tourismus/Hotelerie). Was wird unternommen, um die Mängel zu beheben? Oder verlässt man sich auf das gute Image der Schweiz als Paradies?\n",
    "> - ein Kurz-Interview mit einem Sozial- oder Wirtschaftspsychologen über die (oft zu hohe) Bewertung von Ferienerlebnissen (Justification Effort, siehe weiter unten), die Beeinflussung von Noten, zu hohe Erwartungen, die immer grösser werdende Kluft von guten Hotels/schlechten Hotels, die vermutlich zu einem Aussterben jener führt, die notenmässig nicht vorne dabei sind. \n",
    "> - eine Zahlenreihe à la «Unnützes Wissen» mit Erkenntnissen aus der Booking-Analyse.\n",
    "> Die Überraschungssieger: Griechenland und Liechtenstein (bzw. Appenzell Innerrhoden in der Schweiz)\n",
    "> - Box über das schlechteste Hotel der Welt/Schweiz. Warum ist das so schlecht? Was steht in den Kommentaren? Was sagen die Betreiber? \n",
    "> - Rangliste/Grafik der Länder/Kantone mit den jeweiligen Durchschnittsnoten (im Fokus die Gesamtnote, die Sauberkeit, das Hotelpersonal(Freundlichkeit) und Preis/Leistung.\n",
    "\n",
    "> - Künftige Abfragen, z.B. in einem Jahr: Wie sieht die Situation in einem Jahr aus? Was ist mit dem schlechtesten/besten Hotel passiert? Existieren die noch? Hat sich in Bezug auf die Anzahl Hotels etwas verändert? In Bezug auf die Verteilung der Unterkunftstypen? Ist in einem Land ein Tourismusboom ausgebrochen oder ist er der Tourismus eingebrochen? Haben die Kantone, die im Schweiz-Vergleich schlecht abgeschnitten haben (siehe nächstes Notebook), Massnahmen ergriffen? \n",
    "> - Weitere Fragen/Story-Ideen sind direkt im jeweiligen Notebook bei der Analyse vermerkt.\n",
    "\n",
    "\n",
    "### ACHTUNG: \n",
    "**Die jeweiligen Kommentare/Analysen in den beiden Notebooks beziehen sich auf meinen letzten Durchlauf Ende Februar. Es kann also sein, dass die Details im Moment, in dem ihr das Notebook durchlaufen lasst, anders sind. Die Backups finden sich im Ordner «Datensatz»** "
   ]
  },
  {
   "cell_type": "markdown",
   "metadata": {},
   "source": [
    "# 1. Vorbereitungen"
   ]
  },
  {
   "cell_type": "markdown",
   "metadata": {},
   "source": [
    "### >>> alle nötigen Imports"
   ]
  },
  {
   "cell_type": "code",
   "execution_count": null,
   "metadata": {},
   "outputs": [],
   "source": [
    "# Für die Analyse\n",
    "import requests\n",
    "from bs4 import BeautifulSoup\n",
    "import pandas as pd\n",
    "import numpy as np\n",
    "\n",
    "\n",
    "#für Selenium\n",
    "from selenium import webdriver\n",
    "from selenium.webdriver.common.keys import Keys\n",
    "import time\n",
    "\n",
    "\n",
    "#für Import / Vergleich von CSV\n",
    "import csv\n",
    "\n",
    "#evtl.\n",
    "# ... s. unten with urllib.request.urlopen(hotel_link) as url:\n",
    "import urllib\n",
    "import urllib.request\n",
    "from urllib.request import urlopen\n",
    "\n",
    "# für Grafiken\n",
    "%matplotlib inline\n",
    "import geopandas as gpd\n",
    "from shapely.geometry import Point, LineString, Polygon\n",
    "\n",
    "# für Regex\n",
    "import re"
   ]
  },
  {
   "cell_type": "markdown",
   "metadata": {},
   "source": [
    "### >>> Erste Hauptquelle – die Länderliste – abspeichern"
   ]
  },
  {
   "cell_type": "markdown",
   "metadata": {},
   "source": [
    "Da ich alle Länder separat aufrufen möchte, benötige ich eine Übersichtsliste aller Länder. Diese finde ich auf der Homepage http://www.booking.com ganz unten in der «Fussnote» unter «Länder» (https://www.booking.com/country.de.html?label=gen173rf-1FCAEoggI46AdIM1gDaCyIAQGYAQe4AQfIAQzYAQHoAQH4AQuIAgGiAg5sb2NhbGhvc3Q6ODg4OKgCAw;sid=bac122b1b039d543c04b493f5e62a162). Diese Länderseite rufe ich auf und speichere sie als HTML-File in den Projekt-Ordner unter «Booking.com_Countries.htm» auf meinem Rechner ab. "
   ]
  },
  {
   "cell_type": "markdown",
   "metadata": {},
   "source": [
    "### >>> erstes CSV aller Länder/Links bei Booking.com"
   ]
  },
  {
   "cell_type": "code",
   "execution_count": null,
   "metadata": {},
   "outputs": [],
   "source": [
    "# Übersichtsseite aller Länder einlesen\n",
    "booking_summary = open('Booking.com_Countries.htm', 'r')\n",
    "\n",
    "# Seite lesbar machen mit BeautifulSoup\n",
    "soup_countries = BeautifulSoup(booking_summary, 'html.parser')\n",
    "\n",
    "# Länderübersicht herausfiltern\n",
    "countries = soup_countries.find_all('h2')\n",
    "\n",
    "# die einzelnen Länder/Links scrapen\n",
    "all_countries = []\n",
    "\n",
    "for element in countries:\n",
    "    try:\n",
    "        #Land herausfiltern\n",
    "        country = element.text.replace('\\n','')\n",
    "        #url herausfiltern\n",
    "        url = element.find('a')['href'].split('?').pop(0) \n",
    "    except:\n",
    "        None \n",
    "    hoteltypes = soup_countries.find_all('div', {'class':\"block_third--flag-module\"})\n",
    "\n",
    "  \n",
    "                                             \n",
    "    #Dictionary erstellen \n",
    "   \n",
    "    dict_countries = {'Land': country,\n",
    "                     'Link zum Land': url}\n",
    "    \n",
    "    all_countries.append(dict_countries)\n",
    "\n",
    "\n",
    "#DataFrame erstellen\n",
    "\n",
    "df_all_countries = pd.DataFrame(all_countries)\n",
    "\n",
    "# die letzten zwei Einträge sind keine Länder, brauche ich also nicht\n",
    "df_all_countries = df_all_countries.head(195) \n",
    "\n",
    "df_all_countries.head()\n",
    "\n"
   ]
  },
  {
   "cell_type": "code",
   "execution_count": null,
   "metadata": {},
   "outputs": [],
   "source": [
    "#DataFrame abspeichern als csv\n",
    "df_all_countries.to_csv('Länderliste.csv')\n"
   ]
  },
  {
   "cell_type": "markdown",
   "metadata": {},
   "source": [
    "### >>> zweites CSV mit Direktlink zur Übersicht aller Unterkünfte pro Land"
   ]
  },
  {
   "cell_type": "raw",
   "metadata": {},
   "source": [
    "Nun steuere ich mit Selenium die einzelnen Länderlinks an, lasse den Namen des entsprechenden Landes in das Suchfeld eingeben und klicke «Zeig mir Preise» bzw. «Suche» an (Booking.com ändert das gelegentlich), um zur Übersicht aller Unterkünfte im betreffenden Land zu kommen. Ich mache diesen Zwischenschritt, um später eine stabilere Abfrage zu haben."
   ]
  },
  {
   "cell_type": "code",
   "execution_count": null,
   "metadata": {},
   "outputs": [],
   "source": [
    "#Selenium / Webdriver öffnen (CHECK)\n",
    "driver = webdriver.Chrome('/usr/local/bin/chromedriver')\n",
    "\n",
    "#Link zu allen Ländern ansteuern und DataFrame erstellen\n",
    "\n",
    "all_countries_neu = []\n",
    "\n",
    "for element in countries:   \n",
    "    \n",
    "    try:\n",
    "        #Land herausfiltern\n",
    "        country = element.text.replace('\\n','')\n",
    "    \n",
    "        #url des Landes herausfiltern\n",
    "        url = element.find('a')['href'].split('?').pop(0)\n",
    "    \n",
    "        #url des Landes ansteuern\n",
    "        driver.get(url)\n",
    "    \n",
    "        time.sleep(1)\n",
    "    \n",
    "        #Suchfeld anwählen\n",
    "        try:\n",
    "            suchfeld = driver.find_element_by_name(\"ss\")\n",
    "            \n",
    "    \n",
    "        #Um zur Übersicht aller Hotels des Landes zu gelangen, \n",
    "        #muss der Name des Landes ins Suchfeld eingegeben werden. \n",
    "        #Ein Leerschlag führt jedoch ebenfalls zum Ziel. \n",
    "        #bei beiden Varianten wird nur ein Teil der versprochenen Unterküfte ausgespuckt\n",
    "        #suchfeld.send_keys(\"country\")\n",
    "            suchfeld.send_keys(\" \")\n",
    "        except:\n",
    "            None\n",
    "\n",
    "        #«Suche»-Button ansteuern, um zur Übersicht aller Unterkünfte zu gelangen\n",
    "        button = driver.find_element_by_class_name(\"sb-searchbox__button\").click()\n",
    "        \n",
    "        # Anzahl Unterkünfte insgesamt im Land\n",
    "        # zuerst Quelle der Homepage herausfiltern, um sie dann gleich mit\n",
    "        # BeautifulSoup zu analysieren\n",
    "        \n",
    "        hotels_homepage = driver.page_source\n",
    "        soup_hotels_homepage = BeautifulSoup(hotels_homepage, 'html.parser')\n",
    "        \n",
    "        try:\n",
    "            number_total = soup_hotels_homepage.find('h1', {'class':\"sorth1\"}).text.split(':').pop().replace(' Unterkünfte gefunden', '')\n",
    "        except:\n",
    "            None\n",
    "    \n",
    "        #Link abspeichern\n",
    "        link_all_accomodations = driver.current_url\n",
    "    \n",
    "    except:\n",
    "        None\n",
    "    \n",
    "    #Neues Dictionary erstellen\n",
    "    \n",
    "    dict_countries_neu = {'Land': country,\n",
    "                     'Link zum Land': url,\n",
    "                     'Link zu den Unterkünften': link_all_accomodations, \n",
    "                         'Anzahl Unterkünfte insgesamt': number_total}\n",
    "    \n",
    "    all_countries_neu.append(dict_countries_neu)\n",
    "    \n",
    "#Driver schliessen\n",
    "driver.close\n",
    "    \n",
    "#Neues DataFrame erstellen\n",
    "df_all_countries_neu = pd.DataFrame(all_countries_neu)\n",
    "\n",
    "# die letzten zwei Einträge sind keine Länder, brauche ich also nicht\n",
    "df_all_countries_neu = df_all_countries_neu.head(195)\n",
    "\n",
    "#DataFrame abspeichern\n",
    "df_all_countries_neu.to_csv('Länderliste_komplett.csv')\n",
    "    \n",
    "    "
   ]
  },
  {
   "cell_type": "markdown",
   "metadata": {},
   "source": [
    "### >>> Loop über Unterkünfte-Link aller Länder, um alle Hotel/Links abzufragen\n"
   ]
  },
  {
   "cell_type": "markdown",
   "metadata": {},
   "source": [
    "Nun über alle Unterkünfte eines Landes loopen, um die Direktlinks aller Hotels herauszufiltern und in ein neues CSV speichern für die spätere Detail-Analyse. \n",
    "\n",
    "Dieser Extraschritt ist nötig, weil Booking.com immer mal wieder die Seite umbaut, wie ich feststellen «durfte». Mal sind bereits auf der Übersichtsseite alle nötigen Bewertungsinfos per mouse-over sichtbar, dann ist diese Funktion wieder deaktiviert. Es ist die sicherere Variante, zunächst alle Hotellinks in ein CSV abzuspeichern und sie in einem nächsten Schritt zu analysieren. \n",
    "\n",
    "**Das Problem:** Es zeigt jeweils nur 1000 Hotels pro Land an, egal, wie viele Unterkünfte es pro Land hat. Ich habe die Medienstelle gefragt, ob sie mir alle Hotels zur Verfügung stellen kann. Ob sie mir sagen kann, nach welchem Alghorithmus die Unterkünfte angezeigt werden (es zeigt jeweils plusminus dieselben an, wie ein Probe-Durchlauf mit Österreich gezeigt hat). Aber auch hier: Keine Antwort. Um die Auswahl etwas einzuschränken, konzentriere ich mich für die Abfrage daher einzig auf Hotels. "
   ]
  },
  {
   "cell_type": "markdown",
   "metadata": {},
   "source": [
    "### >>> Funktion erstellen, um alle Hotels/Links pro Land abzufragen"
   ]
  },
  {
   "cell_type": "code",
   "execution_count": null,
   "metadata": {},
   "outputs": [],
   "source": [
    "# Ich baue zunächst eine Funktion, die ich dann später für jedes Land benutzen kann\n",
    "\n",
    "all_hotels_country = []\n",
    "\n",
    "def abfrage_alle_hotels_pro_land (search_page):\n",
    "    driver.get(search_page)\n",
    "    \n",
    "    # Einschränkung nur auf Hotels statt auf alle Unterkünfte\n",
    "    hotels_only = driver.find_elements_by_class_name('filter_label')\n",
    "\n",
    "    for element in hotels_only:\n",
    "        try:\n",
    "            if element.text == 'Hotels':\n",
    "                element.click()\n",
    "        except:\n",
    "            None\n",
    "\n",
    "                  \n",
    "    time.sleep(2) \n",
    "\n",
    "    # Quelle der Homepage herausfiltern, um sie dann gleich mit\n",
    "    # BeautifulSoup zu analysieren\n",
    "    hotels_homepage = driver.page_source\n",
    "    soup_hotels_homepage = BeautifulSoup(hotels_homepage, 'html.parser')\n",
    "    \n",
    "    # Name des Landes plus Anz. Unterkünfte herausfiltern\n",
    "    country_number = soup_hotels_homepage.find('h1', {'class':'sorth1'})\n",
    "    \n",
    "    # Name des Landes\n",
    "    country = country_number.text.split(':').pop(0)\n",
    "    \n",
    "    # Anzahl Hotels im Land\n",
    "    try:\n",
    "        number_hotels = country_number.text.split(':').pop(1).replace(' Unterkünfte gefunden','')\n",
    "    except:\n",
    "        None\n",
    "    \n",
    "    # Übersicht pro Unterkunft\n",
    "    accomodations = soup_hotels_homepage.find_all('div', {'data-et-view':' eWHJbWPNZWEHXT:5'})\n",
    "    \n",
    "    # Loop\n",
    "    for hotel in accomodations:\n",
    "    \n",
    "        #Link zur Unterkunft\n",
    "        link = hotel.find('a', {'class':\"hotel_name_link url\"})\n",
    "        link = link.get('href').replace('\\n', '').split('?').pop(0).replace('/hotel', 'www.booking.com/hotel')\n",
    "        \n",
    "        #Name der Unterkunft\n",
    "        name = hotel.find('a', {'class':\"hotel_name_link\"})\n",
    "        name = name.text.replace('\\n', '').replace('Wird in neuem Fenster geöffnet', '')\n",
    "    \n",
    "        #Dictionary erstellen\n",
    "        dict_name_link_country = {'Name der Unterkunft': name,\n",
    "                         'Link zur Unterkunft': link,\n",
    "                         'Land': country,\n",
    "                        'Anzahl Hotels im Land': number_hotels}\n",
    "        \n",
    "        all_hotels_country.append(dict_name_link_country)\n",
    "           \n",
    "    \n",
    "    time.sleep(2)\n",
    "    \n",
    "    # Update: Booking baut Hürden in Form von Pop-ups ein, die ich jeweils\n",
    "    #zuerst schliessen muss, bevor es weitergehen kann.\n",
    "    \n",
    "    try:\n",
    "        popup = driver.find_element_by_class_name('sliding-panel-widget-close-button')\n",
    "        popup.click()\n",
    "    except:\n",
    "          None\n",
    "            \n",
    "    # Da ich nun auch alle weitere Suchresultate sehen will, muss ich\n",
    "    # jeweils auf den Pfeil klicken, um zur nächsten Übersichtsseite\n",
    "    # zu gelangen. Um zu wissen, wie oft das Programm klicken soll, \n",
    "    # muss ich wissen, wie viele Suchresultateseiten es gibt. \n",
    "    # Dafür wähle ich das letzte Element in der Liste und lasse \n",
    "    # die Zahl ausgeben\n",
    "    \n",
    "    try:\n",
    "        #Liste Paginierung herausfiltern\n",
    "        pages = soup_hotels_homepage.find_all('li', {'class':\"sr_pagination_item\"})\n",
    "    \n",
    "        #letztes Element in Liste, bzw. letzte Suchseite anwählen \n",
    "        # und Zahl ausgeben\n",
    "        anzahl_suchseiten = pages.pop().text\n",
    "    except:\n",
    "        None\n",
    "    \n",
    "\n",
    "    \n",
    "    # Update: Booking baut Hürden in Form von Pop-ups ein, die ich jeweils\n",
    "    #zuerst schliessen muss, bevor es weitergehen kann. \n",
    "    \n",
    "    try:\n",
    "        popup = driver.find_element_by_class_name('sliding-panel-widget-close-button')\n",
    "        popup.click()\n",
    "    except:\n",
    "          None\n",
    "    \n",
    "    \n",
    "    time.sleep(1)\n",
    "\n",
    "  # Alle weiteren Resultateseiten abfragen\n",
    "    \n",
    "    try:\n",
    "        x = 1\n",
    "        while x < int(anzahl_suchseiten):\n",
    "                \n",
    "            x = x + 1\n",
    "        \n",
    "            #klick auf den Pfeil, denn dann hat es noch mehr Suchresultate\n",
    "            hotels_next_page = driver.find_element_by_class_name(\"bui-pagination__next-arrow\")\n",
    "            hotels_next_page.click()\n",
    "    \n",
    "            #Information der Seite abfragen\n",
    "            hotels_next_page = driver.page_source\n",
    "            \n",
    "            time.sleep(1)\n",
    "    \n",
    "            #neuer Loop 2. Suchresultateseite\n",
    "            soup_hotels_next_page = BeautifulSoup(hotels_next_page, 'html.parser')\n",
    "            accomodations = soup_hotels_next_page.find_all('div', {'data-et-view':' eWHJbWPNZWEHXT:5'})\n",
    "\n",
    "            time.sleep(1)\n",
    "        \n",
    "            for hotel in accomodations:\n",
    "            \n",
    "                #Link zur Unterkunft\n",
    "                link = hotel.find('a', {'class':\"hotel_name_link url\"})\n",
    "                link = link.get('href').replace('\\n', '').split('?').pop(0).replace('/hotel', 'www.booking.com/hotel')\n",
    "            \n",
    "                #Name der Unterkunft\n",
    "                name = hotel.find('a', {'class':\"hotel_name_link\"})\n",
    "                name = name.text.replace('\\n', '').replace('Wird in neuem Fenster geöffnet', '')\n",
    "    \n",
    "                #Dictionary erstellen\n",
    "                dict_name_link_country = {'Name der Unterkunft': name,\n",
    "                         'Link zur Unterkunft': link,\n",
    "                             'Land': country,\n",
    "                                      'Anzahl Hotels im Land': number_hotels}\n",
    "        \n",
    "                all_hotels_country.append(dict_name_link_country)\n",
    "        \n",
    "            time.sleep(1)\n",
    "    except:\n",
    "        None\n",
    "    \n",
    "     \n",
    "    # Driver schliessen\n",
    "    driver.close()\n",
    "    \n",
    "  \n",
    "   "
   ]
  },
  {
   "cell_type": "markdown",
   "metadata": {},
   "source": [
    "### >>> Die eigentliche Abfrage mit der obigen Funktion (Selenium)\n",
    "Weil der Rechner aus Kapazitätsgründen nicht alle 195 Länder auf einmal abfragen kann, muss der Loop in zwei Tranchen laufen."
   ]
  },
  {
   "cell_type": "code",
   "execution_count": null,
   "metadata": {},
   "outputs": [],
   "source": [
    "# mit Selenium auf Länder-Unterkünfte-Links zugreifen\n",
    "\n",
    "# 1. Tranche Österreich bis Turks- & Caicosinseln (TC)\n",
    "\n",
    "search_pages = df_all_countries_neu['Link zu den Unterkünften']\n",
    "\n",
    "all_hotels_country = []\n",
    "\n",
    "#for search_page in search_pages[0:124]:\n",
    "for search_page in search_pages[0:1]:\n",
    "    driver = webdriver.Chrome('/usr/local/bin/chromedriver')\n",
    "    time.sleep(1)\n",
    "    try:\n",
    "        driver.get(search_page)\n",
    "    except:\n",
    "        None\n",
    "    time.sleep(1)\n",
    "    \n",
    "    abfrage_alle_hotels_pro_land (search_page)\n",
    "    \n",
    "    driver.close\n",
    "\n",
    "#Dataframe erstellen\n",
    "    \n",
    "df_all_hotels_country = pd.DataFrame(all_hotels_country)\n",
    "df_all_hotels_country\n",
    "    \n",
    "    \n",
    "#In CSV abspeichern\n",
    "\n",
    "df_all_hotels_country.to_csv('Alle_Hotels_pro_Land_Österreich_bis_TC.csv')    "
   ]
  },
  {
   "cell_type": "code",
   "execution_count": null,
   "metadata": {},
   "outputs": [],
   "source": [
    "# 2. Tranche Swasiland bis Gibraltar\n",
    "\n",
    "search_pages = df_all_countries_neu['Link zu den Unterkünften']\n",
    "\n",
    "for search_page in search_pages[124:]:\n",
    "    driver = webdriver.Chrome('/usr/local/bin/chromedriver')\n",
    "    time.sleep(1)\n",
    "    try:\n",
    "        driver.get(search_page)\n",
    "    except:\n",
    "        None\n",
    "    time.sleep(1)\n",
    "    \n",
    "    abfrage_alle_hotels_pro_land (search_page)\n",
    "\n",
    "    driver.close\n",
    "\n",
    "#Dataframe erstellen\n",
    "    \n",
    "df_all_hotels_country = pd.DataFrame(all_hotels_country)\n",
    "df_all_hotels_country\n",
    "    \n",
    "    \n",
    "#In CSV abspeichern\n",
    "\n",
    "df_all_hotels_country.to_csv('Alle_Hotels_pro_Land_Swasiland_bis_Gibraltar.csv')\n"
   ]
  },
  {
   "cell_type": "code",
   "execution_count": null,
   "metadata": {},
   "outputs": [],
   "source": [
    "# Nun beide Tranchen in ein CSV packen:\n",
    "\n",
    "df1 = pd.read_csv(\"Alle_Hotels_pro_Land_Österreich_bis_TC.csv\")\n",
    "\n",
    "df2 = pd.read_csv(\"Alle_Hotels_pro_Land_Übersicht_Swasiland_bis_Gibraltar.csv\")\n",
    "\n",
    "df_all_hotels_country_total = pd.concat([df1, df2], ignore_index=True)\n",
    "\n",
    "# CSV erstellen\n",
    "df_all_hotels_country_total_to_csv = 'Alle_Hotels_aller_Länder.csv'"
   ]
  },
  {
   "cell_type": "code",
   "execution_count": null,
   "metadata": {},
   "outputs": [],
   "source": [
    "len(df_all_hotels_country_total)"
   ]
  },
  {
   "cell_type": "markdown",
   "metadata": {},
   "source": [
    "### Achtung: Doubletten\n",
    "Bei der Analyse in Pandas (siehe weiter unten) habe ich festgestellt, dass es bei manchen Ländern einige Hotels doppelt eingelesen hat. Das merze ich nun hier aus. "
   ]
  },
  {
   "cell_type": "code",
   "execution_count": null,
   "metadata": {},
   "outputs": [],
   "source": [
    "# Doubletten herausfiltern anhand von einzigartiger Link-Spalte\n",
    "df_all_hotels_country_total.drop_duplicates(subset='Link zur Unterkunft', keep='first', inplace=False)"
   ]
  },
  {
   "cell_type": "code",
   "execution_count": null,
   "metadata": {},
   "outputs": [],
   "source": [
    "#CSV des kompletten DataFrames erstellen\n",
    "df_all_hotels_country_total.to_csv('Alle_Hotels_aller_Länder_bereinigt.csv')"
   ]
  },
  {
   "cell_type": "markdown",
   "metadata": {},
   "source": [
    "### Achtung: Fehler beim Link-Einlesen"
   ]
  },
  {
   "cell_type": "markdown",
   "metadata": {},
   "source": [
    "Einige Links wurden wehlerhaft eingelesen. Hinter dem Countrycode wird in einigen Fällen \n",
    "ein www.booking.com angehängt. Weil sowieso nicht alle Hotels eines Landes angezeigt werden, \n",
    "sondern maximal 1000, könnte ich auf die paar Fehler verzichten. Aber um eine möglichst \n",
    "grosse Auslese an Hotels für die Detailabfrage zu haben, korrigiere ich die Fehler rasch im \n",
    "CSV selber und speichere das File auf dem Rechner ab. Mit diesem File arbeite ich dann weiter. "
   ]
  },
  {
   "cell_type": "code",
   "execution_count": null,
   "metadata": {},
   "outputs": [],
   "source": [
    "path_korr = 'Alle_Hotels_aller_Länder_korr.csv'"
   ]
  },
  {
   "cell_type": "markdown",
   "metadata": {},
   "source": [
    "# 2.  Detailabfrage jedes Hotel einzeln\n",
    "Nun habe ich alle Hotellinks in ein CSV gepackt. Nun greife ich auf jeden Link, bzw. jedes Hotel einzeln zu, um es zu analysieren und alle wichtigen Daten herauszufiltern, die später von Interesse sein könnten bei der Analyse. "
   ]
  },
  {
   "cell_type": "code",
   "execution_count": null,
   "metadata": {},
   "outputs": [],
   "source": [
    "# Zum Test alle Details eines Hotels herausfiltern mit BeautifulSoup\n",
    "\n",
    "direktlink_hotel = 'https://www.booking.com/hotel/at/vitalhotel-therme-geinberg.de.html'\n",
    "\n",
    "hotel_page = requests.get(direktlink_hotel).text\n",
    "soup_hotel_page = BeautifulSoup(hotel_page, 'html.parser')\n",
    "\n",
    "#Art der Unterkunft\n",
    "type_accomodation = soup_hotel_page.find('span', {'class':\"hp__hotel-type-badge\"}).text\n",
    "type_accomodation\n",
    "\n",
    "#Name des Hotels\n",
    "name = soup_hotel_page.find('a', {'id':\"hp_hotel_name_reviews\"}).text.replace('\\n', '')\n",
    "name\n",
    "\n",
    "#Anzahl Sterne\n",
    "stars = soup_hotel_page.find('span', {'class':\"hp__hotel_ratings__stars nowrap\"}).text.replace('\\n', '')\n",
    "stars\n",
    "\n",
    "#Gesamtnote\n",
    "score = soup_hotel_page.find('div', {'class':\"bui-review-score__badge\"}).text.replace('Wird in neuem Fenster geöffnet', '').replace('    Sehr gut   ', ';').split(';').pop(0)\n",
    "score\n",
    "\n",
    "#Anzahl Bewertungen\n",
    "reviews = soup_hotel_page.find('div', {'class':\"bui-review-score__text\"}).text\n",
    "reviews\n",
    "\n",
    "#Adresse\n",
    "address = soup_hotel_page.find('span', {'class':\"hp_address_subtitle\"}).text.replace('\\n', '')\n",
    "address\n",
    "\n",
    "#Ort\n",
    "ort = soup_hotel_page.find('a', {'href':\"#map_opened-hotel_header\"}).get('data-atlas-latlng')\n",
    "ort\n",
    "\n",
    "#Ausstattung\n",
    "equipment = soup_hotel_page.find('li', {'data-question':\"hotel_services\"}).text.replace('\\n', '').replace('Ausstattung', '')\n",
    "equipment\n",
    "\n",
    "#Sauberkeit\n",
    "sauberkeit = soup_hotel_page.find('li', {'data-question':\"hotel_clean\"}).text.replace('\\n', '').replace('Sauberkeit', '')\n",
    "sauberkeit\n",
    "\n",
    "#Komfort\n",
    "comfort = soup_hotel_page.find('li', {'data-question':\"hotel_comfort\"}).text.replace('\\n', '').replace('Komfort', '')\n",
    "comfort\n",
    "\n",
    "#Preis/Leistung\n",
    "value = soup_hotel_page.find('li', {'data-question':\"hotel_value\"}).text.replace('\\n', '').replace('Preis-Leistungs-Verhältnis', '')\n",
    "value\n",
    "\n",
    "#Lage\n",
    "location = soup_hotel_page.find('li', {'data-question':\"hotel_location\"}).text.replace('\\n', '').replace('Lage', '')\n",
    "location\n",
    "\n",
    "#Personal\n",
    "staff = soup_hotel_page.find('span', {\"c-score-bar__score\"}).text\n",
    "staff\n",
    "\n",
    "#Land\n",
    "address = soup_hotel_page.find('span', {'class':\"hp_address_subtitle\"}).text.replace('\\n', '')\n",
    "address = address.split(',')\n",
    "land = address.pop().replace(' ','')\n",
    "\n",
    "\n",
    "\n",
    "        \n",
    "                               \n",
    "                                                    \n",
    "                                                    \n",
    "        \n"
   ]
  },
  {
   "cell_type": "markdown",
   "metadata": {},
   "source": [
    "### >>> Funktion bauen für die Abfrage der Hoteldetails"
   ]
  },
  {
   "cell_type": "code",
   "execution_count": null,
   "metadata": {},
   "outputs": [],
   "source": [
    "def abfrage_hoteldetails ():\n",
    "\n",
    "    for directlink_hotel in directlinks_hotel:\n",
    "\n",
    "        directlink_hotel = str('https://')+directlink_hotel\n",
    "\n",
    "        hotel_page = requests.get(directlink_hotel).text\n",
    "        soup_hotel_page = BeautifulSoup(hotel_page, 'html.parser')\n",
    "\n",
    "        #Art der Unterkunft\n",
    "        try:\n",
    "            type_accomodation = soup_hotel_page.find('span', {'class':\"hp__hotel-type-badge\"}).text\n",
    "        except:\n",
    "            type_accomodation = 'NaN'\n",
    "\n",
    "        #Name des Hotels\n",
    "        try:\n",
    "            name = soup_hotel_page.find('a', {'id':\"hp_hotel_name_reviews\"}).text.replace('\\n', '')\n",
    "        except:\n",
    "            name = 'NaN'\n",
    "\n",
    "        #Anzahl Sterne\n",
    "        try:\n",
    "            stars = soup_hotel_page.find('span', {'class':\"hp__hotel_ratings__stars nowrap\"}).text.replace('\\n', '').replace('-Sterne-Hotel','')\n",
    "        except:\n",
    "            stars = 'NaN'\n",
    "\n",
    "        #Gesamtnote\n",
    "        try:\n",
    "            score = soup_hotel_page.find('div', {'class':\"bui-review-score__badge\"}).text.replace('Wird in neuem Fenster geöffnet', '').replace('    Sehr gut   ', ';').split(';').pop(0)\n",
    "        except:\n",
    "            score = 'NaN'\n",
    "\n",
    "        #Anzahl Bewertungen\n",
    "        try:\n",
    "            reviews = soup_hotel_page.find('div', {'class':\"bui-review-score__text\"}).text.replace(' Bewertungen','')\n",
    "        except:\n",
    "            reviews = 'NaN'\n",
    "\n",
    "        #Adresse\n",
    "        try:\n",
    "            address = soup_hotel_page.find('span', {'class':\"hp_address_subtitle\"}).text.replace('\\n', '')\n",
    "        except:\n",
    "            address = 'NaN'\n",
    "\n",
    "        #Ort\n",
    "        try:\n",
    "            ort = soup_hotel_page.find('a', {'href':\"#map_opened-hotel_header\"}).get('data-atlas-latlng')\n",
    "        except:\n",
    "            ort = 'NaN'\n",
    "\n",
    "        #Land\n",
    "        try:\n",
    "            land = soup_hotel_page.find('span', {'class':\"hp_address_subtitle\"}).text.replace('\\n', '').split(',').pop()\n",
    "        except:\n",
    "            land = 'NaN'\n",
    "\n",
    "        #Ausstattung\n",
    "        try:\n",
    "            equipment = soup_hotel_page.find('li', {'data-question':\"hotel_services\"}).text.replace('\\n', '').replace('Ausstattung', '')\n",
    "        except:\n",
    "            equipment = 'NaN'\n",
    "\n",
    "        #Sauberkeit\n",
    "        try:\n",
    "            sauberkeit = soup_hotel_page.find('li', {'data-question':\"hotel_clean\"}).text.replace('\\n', '').replace('Sauberkeit', '')\n",
    "        except:\n",
    "            sauberkeit = 'NaN'\n",
    "\n",
    "        #Komfort\n",
    "        try:\n",
    "            comfort = soup_hotel_page.find('li', {'data-question':\"hotel_comfort\"}).text.replace('\\n', '').replace('Komfort', '')\n",
    "        except:\n",
    "            comfort = 'NaN'\n",
    "\n",
    "        #Preis/Leistung\n",
    "        try:\n",
    "            value = soup_hotel_page.find('li', {'data-question':\"hotel_value\"}).text.replace('\\n', '').replace('Preis-Leistungs-Verhältnis', '')\n",
    "        except:\n",
    "            value = 'NaN'\n",
    "\n",
    "        #Lage\n",
    "        try:\n",
    "            location = soup_hotel_page.find('li', {'data-question':\"hotel_location\"}).text.replace('\\n', '').replace('Lage', '')\n",
    "        except:\n",
    "            location = 'NaN'\n",
    "\n",
    "        #Personal\n",
    "        try:\n",
    "            staff = soup_hotel_page.find('span', {\"c-score-bar__score\"}).text\n",
    "        except:\n",
    "            staff = 'NaN'\n",
    "\n",
    "        #Dictionary erstellen\n",
    "        dict_hoteldetails = {'Art der Unterkunft': type_accomodation, \n",
    "                               'Name des Hotels': name,\n",
    "                                'Anzahl Sterne': stars, \n",
    "                                'Gesamtnote': score,\n",
    "                                'Anzahl Bewertungen': reviews,\n",
    "                                'Ort': ort, \n",
    "                                'Adresse': address, \n",
    "                                'Ausstattung': equipment, \n",
    "                                'Sauberkeit': sauberkeit, \n",
    "                                'Komfort': comfort,\n",
    "                                'Preis/Leistung': value,\n",
    "                                'Lage': location, \n",
    "                                'Hotelpersonal': staff, \n",
    "                                'Link zu Unterkunft': directlink_hotel, \n",
    "                                'Land': land}\n",
    "\n",
    "        hoteldetails.append(dict_hoteldetails)\n",
    "    \n",
    "\n",
    "                                 "
   ]
  },
  {
   "cell_type": "markdown",
   "metadata": {},
   "source": [
    "### >>> Loop über die Direktlink aller Hotels für die Detailabfrage – ACHTUNG, das dauert!\n",
    "Nun wird der Rechner einige Zeit damit beschäftigt sein, die rund 80000 Hotels zu analysieren. Das wird nun plus/minus 40 Stunden dauern. Ich habe nach mehrmaligem Steckenbleiben (instabiles WLAN) schliesslich in Tranchen à 25000 gemacht.  "
   ]
  },
  {
   "cell_type": "code",
   "execution_count": null,
   "metadata": {},
   "outputs": [],
   "source": [
    "#CSV einlesen \n",
    "\n",
    "path = \"Alle_Hotels_aller_Länder_korr.csv\" \n",
    "df = pd.read_csv(path)\n",
    "\n",
    "# Weiter mit Abfrage mit oben erstellten Funktion\n",
    "\n",
    "directlinks_hotel = df['Link zur Unterkunft']\n",
    "directlinks_hotel = directlinks_hotel[0:25000]\n",
    "\n",
    "\n",
    "hoteldetails = []\n",
    "\n",
    "abfrage_hoteldetails()\n",
    "\n",
    "\n",
    "#DataFrame erstellen\n",
    "df_hoteldetails = pd.DataFrame(hoteldetails)\n",
    "\n",
    "    \n",
    "#In CSV abspeichern\n",
    "\n",
    "df_hoteldetails.to_csv('Details_alle_Hotels_total_Teil_1.csv')"
   ]
  },
  {
   "cell_type": "code",
   "execution_count": null,
   "metadata": {},
   "outputs": [],
   "source": [
    "#CSV einlesen \n",
    "\n",
    "path = \"Alle_Hotels_aller_Länder_korr.csv\" \n",
    "df = pd.read_csv(path)\n",
    "\n",
    "# Weiter mit Abfrage mit oben erstellten Funktion\n",
    "\n",
    "directlinks_hotel = df['Link zur Unterkunft']\n",
    "directlinks_hotel = directlinks_hotel[25000:50000]\n",
    "\n",
    "\n",
    "hoteldetails = []\n",
    "\n",
    "abfrage_hoteldetails()\n",
    "\n",
    "\n",
    "#DataFrame erstellen\n",
    "df_hoteldetails = pd.DataFrame(hoteldetails)\n",
    "\n",
    "    \n",
    "#In CSV abspeichern\n",
    "\n",
    "df_hoteldetails.to_csv('Details_alle_Hotels_total_Teil_2.csv')"
   ]
  },
  {
   "cell_type": "code",
   "execution_count": null,
   "metadata": {},
   "outputs": [],
   "source": [
    "#CSV einlesen \n",
    "\n",
    "path = \"Alle_Hotels_aller_Länder_korr.csv\" \n",
    "df = pd.read_csv(path)\n",
    "\n",
    "# Weiter mit Abfrage mit oben erstellten Funktion\n",
    "\n",
    "directlinks_hotel = df['Link zur Unterkunft']\n",
    "directlinks_hotel = directlinks_hotel[50000:]\n",
    "\n",
    "\n",
    "hoteldetails = []\n",
    "\n",
    "abfrage_hoteldetails()\n",
    "\n",
    "\n",
    "#DataFrame erstellen\n",
    "df_hoteldetails = pd.DataFrame(hoteldetails)\n",
    "\n",
    "    \n",
    "#In CSV abspeichern\n",
    "\n",
    "df_hoteldetails.to_csv('Details_alle_Hotels_total_Teil_3.csv')"
   ]
  },
  {
   "cell_type": "code",
   "execution_count": null,
   "metadata": {},
   "outputs": [],
   "source": [
    "# CSV der drei Tranchen verbinden\n",
    "\n",
    "df_1 = pd.read_csv('Details_alle_Hotels_total_Teil_1.csv')\n",
    "\n",
    "df_2 = pd.read_csv('Details_alle_Hotels_total_Teil_2.csv')\n",
    "\n",
    "df_3 = pd.read_csv('Details_alle_Hotels_total_Teil_3.csv')\n",
    "\n",
    "df_details_alle_hotels_total = pd.concat([df_1, df_2, df_3], ignore_index=True)\n",
    "\n",
    "#CSV des kompletten DataFrames erstellen\n",
    "df_details_alle_hotels_total.to_csv('Details_alle_Hotels_komplett.csv')\n"
   ]
  },
  {
   "cell_type": "code",
   "execution_count": null,
   "metadata": {},
   "outputs": [],
   "source": [
    "df_details_alle_hotels_total "
   ]
  },
  {
   "cell_type": "markdown",
   "metadata": {},
   "source": [
    "# 3. Analyse mit Pandas"
   ]
  },
  {
   "cell_type": "code",
   "execution_count": null,
   "metadata": {},
   "outputs": [],
   "source": [
    "path_complete = 'Details_alle_Hotels_komplett.csv'"
   ]
  },
  {
   "cell_type": "code",
   "execution_count": null,
   "metadata": {},
   "outputs": [],
   "source": [
    "df_total = pd.read_csv(path_complete)\n"
   ]
  },
  {
   "cell_type": "markdown",
   "metadata": {},
   "source": [
    "### >>> Bewertungsspalten von Strings in Floats umwandeln"
   ]
  },
  {
   "cell_type": "code",
   "execution_count": null,
   "metadata": {},
   "outputs": [],
   "source": [
    "df_total['Gesamtnote'] = df_total['Gesamtnote'].replace(\",\",\".\", regex=True).replace(\"Gesamtnote\", \"NaN\").astype(float)\n",
    "# Median Gesamtnote gerundet\n",
    "df_total['Gesamtnote'].median().round(1)"
   ]
  },
  {
   "cell_type": "markdown",
   "metadata": {},
   "source": [
    "> Erkenntnis: \n",
    "> Der Noten-Durchschnitt ist mit 8.4 von 10 Punkten relativ hoch. \n",
    "\n",
    "> **Story-Idee:** Ein Gespräch mit einem Sozialsychologen über Bewertungen, bzw. zu hohe Bewertungen (Justification Effort). Menschen tendieren dazu, ihre (Reise-)Erlebnisse im nachhinein zu idealisieren, wenn sie dafür Geld ausgegeben haben. "
   ]
  },
  {
   "cell_type": "code",
   "execution_count": null,
   "metadata": {},
   "outputs": [],
   "source": [
    "df_total['Sauberkeit'] = df_total['Sauberkeit'].replace(\",\",\".\", regex=True).replace(\"Sauberkeit\", \"NaN\").astype(float)\n",
    "# Median Sauberkeit gerundet\n",
    "df_total['Sauberkeit'].median().round(1)"
   ]
  },
  {
   "cell_type": "code",
   "execution_count": null,
   "metadata": {},
   "outputs": [],
   "source": [
    "df_total['Hotelpersonal'] = df_total['Hotelpersonal'].replace(\",\",\".\", regex=True).replace('Hotelpersonal','NaN', regex=True).astype(float)\n",
    "# Median Hotelpersonal gerundet\n",
    "df_total['Hotelpersonal'].median().round(1)"
   ]
  },
  {
   "cell_type": "code",
   "execution_count": null,
   "metadata": {},
   "outputs": [],
   "source": [
    "df_total['Lage'] = df_total['Lage'].replace(\",\",\".\", regex=True).replace('Lage','NaN', regex=True).astype(float)\n",
    "# Median Lage gerundet\n",
    "df_total['Lage'].median().round(1)"
   ]
  },
  {
   "cell_type": "code",
   "execution_count": null,
   "metadata": {},
   "outputs": [],
   "source": [
    "df_total['Preis/Leistung'] = df_total['Preis/Leistung'].replace(\",\",\".\", regex=True).replace('Preis/Leistung','NaN', regex=True).astype(float)\n",
    "# Median Lage gerundet\n",
    "df_total['Preis/Leistung'].median().round(1)"
   ]
  },
  {
   "cell_type": "code",
   "execution_count": null,
   "metadata": {},
   "outputs": [],
   "source": [
    "df_total['Komfort'] = df_total['Komfort'].replace(\",\",\".\", regex=True).replace('Komfort','NaN', regex=True).astype(float)\n",
    "# Median Komfort gerundet\n",
    "df_total['Komfort'].median().round(1)"
   ]
  },
  {
   "cell_type": "code",
   "execution_count": null,
   "metadata": {},
   "outputs": [],
   "source": [
    "df_total['Ausstattung'] = df_total['Ausstattung'].replace(\",\",\".\", regex=True).replace('Ausstattug','NaN', regex=True).astype(float)\n",
    "# Median Ausstattung gerundet\n",
    "df_total['Ausstattung'].median().round(1)"
   ]
  },
  {
   "cell_type": "markdown",
   "metadata": {},
   "source": [
    "> Erkenntnis: Das Preis-/Leistungsverhältnis reisst den Durchschnitt am stärksten nach unten. Menschliche Komponente (Freundlichkeit, Sauberkeit) machen «Hardware» (Ausstattung, Komfort) wett. "
   ]
  },
  {
   "cell_type": "markdown",
   "metadata": {},
   "source": [
    "### >>> Bewertungsspalten gruppieren"
   ]
  },
  {
   "cell_type": "code",
   "execution_count": null,
   "metadata": {},
   "outputs": [],
   "source": [
    "bewertungen_only = df_total[['Land', 'Gesamtnote', 'Sauberkeit', 'Hotelpersonal', 'Komfort', 'Lage', 'Ausstattung', 'Preis/Leistung']]"
   ]
  },
  {
   "cell_type": "code",
   "execution_count": null,
   "metadata": {},
   "outputs": [],
   "source": [
    "bewertungen_only.head(3)"
   ]
  },
  {
   "cell_type": "markdown",
   "metadata": {},
   "source": [
    "### >>> Ländernamen umwandeln in neue Spalte"
   ]
  },
  {
   "cell_type": "code",
   "execution_count": null,
   "metadata": {},
   "outputs": [],
   "source": [
    "# Weil es wegen bestimmter Ländernamen, wie z.B. der Klammer\n",
    "# Grossbritannien (GB) Probleme bei der späteren Auswertung gibt (zudem ist\n",
    "# jeweils noch ein Leerschlag zu Beginn des Ländernamen-Strings drin), \n",
    "# bereinige ich die Ländernamen. \n",
    "\n",
    "land_neu = []\n",
    "\n",
    "for land in df_total['Land']:\n",
    "    try: \n",
    "        land = land.split(' (').pop(0).replace('ß', 'ss').strip()\n",
    "    except:\n",
    "        None\n",
    "    land_neu.append(land)\n",
    "\n",
    "df_total['Land neu'] = land_neu"
   ]
  },
  {
   "cell_type": "code",
   "execution_count": null,
   "metadata": {},
   "outputs": [],
   "source": [
    "land_alle_neu = []\n",
    "\n",
    "for land in df_all_countries['Land']:\n",
    "    try: \n",
    "        land = land.split(' (').pop(0).replace('ß', 'ss')\n",
    "    except:\n",
    "        None\n",
    "    land_alle_neu.append(land)\n",
    "    \n",
    "df_all_countries['Land neu'] = land_alle_neu"
   ]
  },
  {
   "cell_type": "markdown",
   "metadata": {},
   "source": [
    "### >>> Funktionen schreiben für spätere Abfragen"
   ]
  },
  {
   "cell_type": "code",
   "execution_count": null,
   "metadata": {},
   "outputs": [],
   "source": [
    "# Median einer Spalte pro Land\n",
    "\n",
    "gesamtnote_median = []\n",
    "\n",
    "def abfrage_median (land):\n",
    "    one_country = df_total['Land neu'] == str(land)\n",
    "    wert = df_total[one_country][str(spalte)].median()\n",
    "    \n",
    "    dict_median = {'Land': land, \n",
    "                  'Gesamtnote Median': wert}\n",
    "    \n",
    "    gesamtnote_median.append(dict_median)\n",
    "    "
   ]
  },
  {
   "cell_type": "code",
   "execution_count": null,
   "metadata": {},
   "outputs": [],
   "source": [
    "# Median aller Bewertungspalten pro Land\n",
    "\n",
    "median = []\n",
    "\n",
    "def abfrage_median_alle (land):\n",
    "    one_country = df_total['Land neu'] == str(land)\n",
    "    gesamtnote = df_total[one_country]['Gesamtnote'].median()\n",
    "    sauberkeit = df_total[one_country]['Sauberkeit'].median()\n",
    "    hotelpersonal = df_total[one_country]['Hotelpersonal'].median()\n",
    "    komfort = df_total[one_country]['Komfort'].median()\n",
    "    ausstattung = df_total[one_country]['Ausstattung'].median()\n",
    "    lage = df_total[one_country]['Lage'].median()\n",
    "    preis_leistung = df_total[one_country]['Preis/Leistung'].median()\n",
    "    \n",
    "    \n",
    "    dict_median = {'Land': land, \n",
    "                  'Gesamtnote Median': gesamtnote, \n",
    "                  'Sauberkeit Median': sauberkeit,\n",
    "                  'Hotelpersonal Median': hotelpersonal,\n",
    "                  'Komfort Median': komfort,\n",
    "                  'Ausstattung Median': ausstattung, \n",
    "                  'Lage Median': lage, \n",
    "                  'Preis/Leistung Median': preis_leistung}\n",
    "    \n",
    "    median.append(dict_median)\n",
    "    \n",
    "   \n",
    "    "
   ]
  },
  {
   "cell_type": "code",
   "execution_count": null,
   "metadata": {},
   "outputs": [],
   "source": [
    "median = []\n",
    "\n",
    "for land in df_all_countries['Land neu']:\n",
    "    abfrage_median_alle(land)\n",
    "    \n",
    "df_median = pd.DataFrame(median)\n",
    "df_median\n"
   ]
  },
  {
   "cell_type": "code",
   "execution_count": null,
   "metadata": {},
   "outputs": [],
   "source": [
    "#CSV erstellen\n",
    "df_median.to_csv('Median aller Bewertungen pro Land')\n"
   ]
  },
  {
   "cell_type": "markdown",
   "metadata": {},
   "source": [
    "### >>> Die Gesamtnote "
   ]
  },
  {
   "cell_type": "code",
   "execution_count": null,
   "metadata": {},
   "outputs": [],
   "source": [
    "# Durchschnitt (Median) Gesamtnote aller Länder\n",
    "df_total['Gesamtnote'].median().round(1)"
   ]
  },
  {
   "cell_type": "markdown",
   "metadata": {},
   "source": [
    "> Erkenntnis: \n",
    "> Der Noten-Durchschnitt ist mit 8.4 von 10 Punkten relativ hoch. Mögliche Story-Idee: Ein Gespräch mit einem Sozialsychologen über Bewertungen, bzw. zu hohe Bewertungen (Justification Effort). "
   ]
  },
  {
   "cell_type": "code",
   "execution_count": null,
   "metadata": {},
   "outputs": [],
   "source": [
    "# Welches Land hat den höchsten/niedrigsten Durchschnitt?\n",
    "df_median.groupby('Land')['Gesamtnote Median'].max().round(1).sort_values(ascending=False)"
   ]
  },
  {
   "cell_type": "markdown",
   "metadata": {},
   "source": [
    "> Erkenntnisse: \n",
    "\n",
    "> - Die Länder mit dem besten Gesamtnotenschnitt sind Griechenland und St. Martin mit Note 9.1. \n",
    "\n",
    "> - Das Land mit dem schlechtesten Gesamtnotenschnitt ist Bangladesch mit Note 6.8. \n",
    "\n",
    "> - Die Schweiz (Note 8.8) ist immerhin in den Top 15.\n",
    "\n",
    "> - Auf der Krim (kein Hotel verfügbar) und auf Kuba gibt es keine verwertbare Noten. \n",
    "\n",
    "> - **Story-Idee** Warum kubanische Hotels keine Bewertungen haben, wäre eine kleine Randgeschichte wert. "
   ]
  },
  {
   "cell_type": "code",
   "execution_count": null,
   "metadata": {},
   "outputs": [],
   "source": [
    "# Wie sieht es pro Land im Detail aus? \n",
    "# Wie ist die Spannbreite der Ausreisser?\n",
    "\n",
    "def abfrage_bewertung (land, spalte):\n",
    "    one_country = df_total['Land neu'] == str(land)\n",
    "    mean = df_total[one_country][str(spalte)].replace('NaN','').mean()\n",
    "    maxi = df_total[one_country][str(spalte)].replace('NaN','').max()\n",
    "    mini = df_total[one_country][str(spalte)].replace('NaN','').min()\n",
    "    median = df_total[one_country][str(spalte)].replace('NaN','').median()\n",
    "    \n",
    "    # Dictionary erstellen\n",
    "    dict_bewertung = {'Land': land,\n",
    "                      'Median': median,\n",
    "                      'Höchstnote': maxi,\n",
    "                      'Tiefstnote': mini,\n",
    "                      'Mittel': mean}\n",
    "    \n",
    "    bewertung.append(dict_bewertung)"
   ]
  },
  {
   "cell_type": "code",
   "execution_count": null,
   "metadata": {},
   "outputs": [],
   "source": [
    "# Welches Land hat die höchste/tiefste \n",
    "# Durchschnitts-Gesamtnote (Mittel/Median)?\n",
    "\n",
    "bewertung = []\n",
    "\n",
    "for land in df_all_countries['Land neu']:\n",
    "\n",
    "    spalte = 'Gesamtnote'\n",
    "    \n",
    "    abfrage_bewertung (land, spalte)\n",
    "\n",
    "# Dataframe erstellen\n",
    "df_dict_bewertung = pd.DataFrame(bewertung)\n",
    "df_dict_bewertung.set_index('Land')\n",
    "\n",
    "   "
   ]
  },
  {
   "cell_type": "markdown",
   "metadata": {},
   "source": [
    "### >>> Wo ist es am saubersten?"
   ]
  },
  {
   "cell_type": "markdown",
   "metadata": {},
   "source": [
    "Welches Land ist am saubersten? Das müsste eigentlich ein klarer Fall sein. Schaffen es die Schweiz und Japan an die Spitze? Oder bezieht sich dieses Klischee nur auf die Sauberkeit auf den Strassen?\n"
   ]
  },
  {
   "cell_type": "code",
   "execution_count": null,
   "metadata": {},
   "outputs": [],
   "source": [
    "df_median.groupby('Land')['Sauberkeit Median'].max().round(1).sort_values(ascending=False).head(40)"
   ]
  },
  {
   "cell_type": "markdown",
   "metadata": {},
   "source": [
    "> Überraschung! Die Schweiz und Japan sind nicht an der Spitze. Sauberkeitssieger ist Liechtenstein vor Anguilla und Bermuda. Die Schweiz schafft es mit der hohen Note 9,1 auf Rang 8 (zusammen mit anderen). Und Japan? Teilt sich Rang 25 mit 8,9."
   ]
  },
  {
   "cell_type": "markdown",
   "metadata": {},
   "source": [
    "### >>> Welches Land hat das beste, freundlichste Hotelpersonal?"
   ]
  },
  {
   "cell_type": "markdown",
   "metadata": {},
   "source": [
    "Die Freundlichkeit, ein ewiges Thema. Die Schweizer gelten ja nicht unbedingt als Spitzenreiter. Dafür die Italiener, Südostasiaten, Südamerikaner. Schau'n wir mal. "
   ]
  },
  {
   "cell_type": "code",
   "execution_count": null,
   "metadata": {},
   "outputs": [],
   "source": [
    "df_median.groupby('Land')['Hotelpersonal Median'].max().round(1).sort_values(ascending=False)"
   ]
  },
  {
   "cell_type": "markdown",
   "metadata": {},
   "source": [
    "> Erkenntnisse: \n",
    "> - Platz 1 auf der Rangliste des freundlichsten Hotelpersonals: Griechenland. Das Niveau ist aber allgemein sehr hoch. \n",
    "> - Eher unfreundlich geht es in Bangladesch zu. Nur 7.3 von möglichen 10. \n",
    "\n",
    "> **Story-Idee: \n",
    "Gespräch mit einem griechischen Tourismusexperten über die Gastfreundschaft.**"
   ]
  },
  {
   "cell_type": "markdown",
   "metadata": {},
   "source": [
    "### >>> Preis/Leistung oder wo kriegt man am meisten fürs Geld?"
   ]
  },
  {
   "cell_type": "code",
   "execution_count": null,
   "metadata": {},
   "outputs": [],
   "source": [
    "df_median.groupby('Land')['Preis/Leistung Median'].max().round(1).sort_values(ascending=False)"
   ]
  },
  {
   "cell_type": "code",
   "execution_count": null,
   "metadata": {},
   "outputs": [],
   "source": [
    "dschibuti = df_total['Land neu'] == 'Dschibuti'\n",
    "len(df_total[dschibuti])"
   ]
  },
  {
   "cell_type": "markdown",
   "metadata": {},
   "source": [
    "> Erkenntnis: \n",
    "> Definitiv nicht in Dschibuti, das Land hat mit nur 5,8 ein extrem schlechtes Preis/Leistungsverhältnis. Mit nur 12 Hotels handelt es sich um ein Land, das mit am wenigsten Hotels hat. Die Preise variieren aktuell stark zwischen 75 und 419 Franken für ein Doppelzimmer. Die Schweiz rangiert unter «ferner liefen»..."
   ]
  },
  {
   "cell_type": "markdown",
   "metadata": {},
   "source": [
    "### >>> Wo ist es am komfortabelsten?"
   ]
  },
  {
   "cell_type": "code",
   "execution_count": null,
   "metadata": {},
   "outputs": [],
   "source": [
    "df_median.groupby('Land')['Komfort Median'].max().round(1).sort_values(ascending=False).head(10)"
   ]
  },
  {
   "cell_type": "markdown",
   "metadata": {},
   "source": [
    "### >>> Wo gibt es die beste Ausstattung?\n"
   ]
  },
  {
   "cell_type": "code",
   "execution_count": null,
   "metadata": {},
   "outputs": [],
   "source": [
    "df_median.groupby('Land')['Ausstattung Median'].max().round(1).sort_values(ascending=False).head(10)"
   ]
  },
  {
   "cell_type": "markdown",
   "metadata": {},
   "source": [
    "### >>> Hier ist es am schönsten – die beste Lage\n",
    "Location, Location, Location: Die Lage ist (fast) das Wichtigste. \n"
   ]
  },
  {
   "cell_type": "code",
   "execution_count": null,
   "metadata": {},
   "outputs": [],
   "source": [
    "df_median.groupby('Land')['Lage Median'].max().round(1).sort_values(ascending=False).head()"
   ]
  },
  {
   "cell_type": "code",
   "execution_count": null,
   "metadata": {},
   "outputs": [],
   "source": [
    "# Median aller Bewertungspunkte auf Anguilla\n",
    "\n",
    "df_median[df_median['Land'] == 'Anguilla']\n",
    "\n"
   ]
  },
  {
   "cell_type": "markdown",
   "metadata": {},
   "source": [
    "> Drum: Ab nach Anguilla in der Karibik. 9.6 Punkte, besser gehts fast gar nicht. Allerdings verlangen die Hotelbesitzer offenbar etwas gar viel. Das Preis/Leistungsverhältnis liegt mit 7.9 unter dem weltweiten Durchschnitt.\n",
    "\n",
    "> **Story-Idee: Diese Location müssen wir natürlich im Bild sehen.**"
   ]
  },
  {
   "cell_type": "markdown",
   "metadata": {},
   "source": [
    "### >> Welches ist das schlechteste Hotel der Welt?"
   ]
  },
  {
   "cell_type": "code",
   "execution_count": null,
   "metadata": {},
   "outputs": [],
   "source": [
    "# Die schlechteste Gesamtnote bei Booking (mit gewisser Ungenauigkeit, \n",
    "# weil ja pro Land immer nur maximal 1000 Hotels angezeigt werden)\n",
    "df_total['Gesamtnote'].min()"
   ]
  },
  {
   "cell_type": "code",
   "execution_count": null,
   "metadata": {},
   "outputs": [],
   "source": [
    "# Welches Hotel ist denn das bloss?\n",
    "schlechtestes_hotel = df_total['Gesamtnote'] == 2.8\n",
    "df_total[schlechtestes_hotel]"
   ]
  },
  {
   "cell_type": "markdown",
   "metadata": {},
   "source": [
    "> **Story-Idee: Der Fall ist klar: Das schlechteste Hotel der Welt ist das Jericho Paradise Resort in Palästina. Was ist so schlecht? Wie sieht es aus? Was sagen die Gäste in ihren Bewertungen? Das wäre ein kleine Box wert.**"
   ]
  },
  {
   "cell_type": "markdown",
   "metadata": {},
   "source": [
    "### >>> In welchen Ländern, die auf Booking.com gelistet sind, gibt es keinen/am wenigsten Tourismus. "
   ]
  },
  {
   "cell_type": "code",
   "execution_count": null,
   "metadata": {},
   "outputs": [],
   "source": [
    "# Dazu schauen, welches gelistete Land am wenigsten Hotels hat.\n",
    "df_total.Land.value_counts().sort_values()"
   ]
  },
  {
   "cell_type": "markdown",
   "metadata": {},
   "source": [
    "#### Nanu?\n",
    "Es erscheinen seltsame Nummern statt Länder. Ich muss versuchen herauszufinden, zu welchem Land die Zahlen gehören, um sie richtig zuordnen zu können. "
   ]
  },
  {
   "cell_type": "code",
   "execution_count": null,
   "metadata": {},
   "outputs": [],
   "source": [
    "#Ich suche mit Hilfe von Regex die Länder, die mit einer Zahl beginnen.\n",
    "\n",
    "df_total['Fehler'] = df_total['Land neu'].str.contains(r\"\\d+\")"
   ]
  },
  {
   "cell_type": "code",
   "execution_count": null,
   "metadata": {},
   "outputs": [],
   "source": [
    "# Zu welchen Ländern gehören sie? Ein Slice aus dem DataFrame \n",
    "# hilft sicher weiter. \n",
    "\n",
    "fehler = df_total['Fehler'] == True\n"
   ]
  },
  {
   "cell_type": "code",
   "execution_count": null,
   "metadata": {},
   "outputs": [],
   "source": [
    "df_total[fehler]"
   ]
  },
  {
   "cell_type": "code",
   "execution_count": null,
   "metadata": {},
   "outputs": [],
   "source": [
    "# Bei allen fehlerhaften Hotels handelt es sich um Hotels in Israel. \n",
    "# Ich ersetze nun also alle Nummern durch 'Israel'\n",
    "\n",
    "df_total['Land'] = df_total['Land neu'].str.replace(r\"\\d+\", \"Israel\")"
   ]
  },
  {
   "cell_type": "code",
   "execution_count": null,
   "metadata": {},
   "outputs": [],
   "source": [
    "# Nochmals zurück auf Feld 1: Welches Land hat am wenigsten Hotels?\n",
    "\n",
    "df_total['Land'].value_counts().sort_values().head()"
   ]
  },
  {
   "cell_type": "markdown",
   "metadata": {},
   "source": [
    "> Erkenntnis:\n",
    "> In Niue, Tibet und Libyen hat es also je nur ein Hotel. "
   ]
  },
  {
   "cell_type": "code",
   "execution_count": null,
   "metadata": {},
   "outputs": [],
   "source": [
    "hotel_libyen = df_total['Land'] == 'Libyen'"
   ]
  },
  {
   "cell_type": "code",
   "execution_count": null,
   "metadata": {},
   "outputs": [],
   "source": [
    "# Mal schauen was das für ein Hotel ist \n",
    "df_total[hotel_libyen]"
   ]
  },
  {
   "cell_type": "markdown",
   "metadata": {},
   "source": [
    "> **Storyidee: Kurz-Interview mit den Betreibern des «Plasma Hotel Tripoli» in Libyen über den Tourismus in Libyen.**"
   ]
  },
  {
   "cell_type": "markdown",
   "metadata": {},
   "source": [
    "> **Exkurs: Es sind nur 195 Länder auf Booking gelistet, es fehlen also 55 Länder dieser Welt. Das wäre auch noch eine Auswertung und vor allem Grafik wert. Aber dazu müsste ich nun noch die Country Codes der Länder einlesen und abgleichen, um eine saubere Abfrage zu erhalten. Dazu fehlt mir nun leider die Zeit.**"
   ]
  },
  {
   "cell_type": "markdown",
   "metadata": {},
   "source": [
    "### >>> Welches Land hat am meisten 10er-Hotels im Land?"
   ]
  },
  {
   "cell_type": "code",
   "execution_count": null,
   "metadata": {},
   "outputs": [],
   "source": [
    "df_total[df_total['Gesamtnote'] == 10.0]\n"
   ]
  },
  {
   "cell_type": "code",
   "execution_count": null,
   "metadata": {},
   "outputs": [],
   "source": [
    "len(df_total[df_total['Gesamtnote'] == 10.0])\n"
   ]
  },
  {
   "cell_type": "markdown",
   "metadata": {},
   "source": [
    "> Erkenntnis: Es gibt also 75 Hotels mit der Höchstnote 10. Eine hohe Zahl. Schauen wir uns das genauer an. "
   ]
  },
  {
   "cell_type": "code",
   "execution_count": null,
   "metadata": {},
   "outputs": [],
   "source": [
    "df_total['Top-10-Land'] = df_total['Gesamtnote'] == 10.0\n",
    "df_total[df_total['Top-10-Land']]"
   ]
  },
  {
   "cell_type": "code",
   "execution_count": null,
   "metadata": {},
   "outputs": [],
   "source": [
    "df_total[df_total['Top-10-Land']]['Land'].value_counts()"
   ]
  },
  {
   "cell_type": "markdown",
   "metadata": {},
   "source": [
    "> Georgien hat also am meisten 10-Punkte. Allerdings: Die Hotels haben nur sehr wenige Bewertungen, was nicht so vertrauenserweckend ist. Das Luxury Apartments Mondrian Old Town in Polen mit 161 Bewertungen ist da schon glaubwürdiger.\n",
    "\n",
    "> **Kleine Randnotiz**: Das betreffende Hotel hatte beim letzten Durchlauf Mitte Februar noch zwei Bewertungen mehr, nämlich 161. Wer kann Bewertungen löschen? Wer hat Interesse daran?"
   ]
  }
 ],
 "metadata": {
  "kernelspec": {
   "display_name": "Python 3",
   "language": "python",
   "name": "python3"
  },
  "language_info": {
   "codemirror_mode": {
    "name": "ipython",
    "version": 3
   },
   "file_extension": ".py",
   "mimetype": "text/x-python",
   "name": "python",
   "nbconvert_exporter": "python",
   "pygments_lexer": "ipython3",
   "version": "3.7.0"
  }
 },
 "nbformat": 4,
 "nbformat_minor": 2
}
